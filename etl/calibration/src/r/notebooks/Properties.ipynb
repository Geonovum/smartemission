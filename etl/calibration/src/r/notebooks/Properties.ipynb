{
 "cells": [
  {
   "cell_type": "code",
   "execution_count": 2,
   "metadata": {
    "collapsed": false
   },
   "outputs": [
    {
     "name": "stderr",
     "output_type": "stream",
     "text": [
      "Warning message:\n",
      "“package ‘dplyr’ was built under R version 3.2.5”\n",
      "Attaching package: ‘dplyr’\n",
      "\n",
      "The following objects are masked from ‘package:stats’:\n",
      "\n",
      "    filter, lag\n",
      "\n",
      "The following objects are masked from ‘package:base’:\n",
      "\n",
      "    intersect, setdiff, setequal, union\n",
      "\n"
     ]
    }
   ],
   "source": [
    "library(ggplot2)\n",
    "library(dplyr)"
   ]
  },
  {
   "cell_type": "code",
   "execution_count": 3,
   "metadata": {
    "collapsed": true
   },
   "outputs": [],
   "source": [
    "data <- read.csv(\"../../../io/data/train.csv\")"
   ]
  },
  {
   "cell_type": "code",
   "execution_count": 6,
   "metadata": {
    "collapsed": false
   },
   "outputs": [],
   "source": [
    "df <- data %>%\n",
    "    arrange(secs)"
   ]
  },
  {
   "cell_type": "code",
   "execution_count": 7,
   "metadata": {
    "collapsed": false
   },
   "outputs": [
    {
     "data": {
      "text/html": [
       "<ol class=list-inline>\n",
       "\t<li>'s.barometer'</li>\n",
       "\t<li>'s.co2'</li>\n",
       "\t<li>'s.humidity'</li>\n",
       "\t<li>'s.no2resistance'</li>\n",
       "\t<li>'s.o3resistance'</li>\n",
       "\t<li>'s.temperature.ambient'</li>\n",
       "\t<li>'s.temperature.unit'</li>\n",
       "\t<li>'secs'</li>\n",
       "\t<li>'O3_Waarden'</li>\n",
       "\t<li>'NO2_Waarden'</li>\n",
       "\t<li>'CO_Waarden'</li>\n",
       "</ol>\n"
      ],
      "text/latex": [
       "\\begin{enumerate*}\n",
       "\\item 's.barometer'\n",
       "\\item 's.co2'\n",
       "\\item 's.humidity'\n",
       "\\item 's.no2resistance'\n",
       "\\item 's.o3resistance'\n",
       "\\item 's.temperature.ambient'\n",
       "\\item 's.temperature.unit'\n",
       "\\item 'secs'\n",
       "\\item 'O3\\_Waarden'\n",
       "\\item 'NO2\\_Waarden'\n",
       "\\item 'CO\\_Waarden'\n",
       "\\end{enumerate*}\n"
      ],
      "text/markdown": [
       "1. 's.barometer'\n",
       "2. 's.co2'\n",
       "3. 's.humidity'\n",
       "4. 's.no2resistance'\n",
       "5. 's.o3resistance'\n",
       "6. 's.temperature.ambient'\n",
       "7. 's.temperature.unit'\n",
       "8. 'secs'\n",
       "9. 'O3_Waarden'\n",
       "10. 'NO2_Waarden'\n",
       "11. 'CO_Waarden'\n",
       "\n",
       "\n"
      ],
      "text/plain": [
       " [1] \"s.barometer\"           \"s.co2\"                 \"s.humidity\"           \n",
       " [4] \"s.no2resistance\"       \"s.o3resistance\"        \"s.temperature.ambient\"\n",
       " [7] \"s.temperature.unit\"    \"secs\"                  \"O3_Waarden\"           \n",
       "[10] \"NO2_Waarden\"           \"CO_Waarden\"           "
      ]
     },
     "metadata": {},
     "output_type": "display_data"
    }
   ],
   "source": [
    "names(df)"
   ]
  },
  {
   "cell_type": "markdown",
   "metadata": {},
   "source": [
    "# General"
   ]
  },
  {
   "cell_type": "code",
   "execution_count": 15,
   "metadata": {
    "collapsed": false
   },
   "outputs": [
    {
     "data": {
      "text/plain": [
       "  s.barometer         s.co2        s.humidity     s.no2resistance \n",
       " Min.   : 973.7   Min.   :   0   Min.   : 11.06   Min.   :   0.0  \n",
       " 1st Qu.:1004.6   1st Qu.: 961   1st Qu.: 59.57   1st Qu.: 530.1  \n",
       " Median :1009.0   Median :1006   Median : 69.74   Median : 737.7  \n",
       " Mean   :1009.6   Mean   :1009   Mean   : 68.74   Mean   : 785.8  \n",
       " 3rd Qu.:1014.7   3rd Qu.:1125   3rd Qu.: 78.13   3rd Qu.: 964.7  \n",
       " Max.   :1031.9   Max.   :6382   Max.   :124.47   Max.   :1934.0  \n",
       "                                                                  \n",
       " s.o3resistance    s.temperature.ambient s.temperature.unit      secs          \n",
       " Min.   :   0.00   Min.   :-4.187        Min.   : 0.312     Min.   :1.455e+09  \n",
       " 1st Qu.:  37.10   1st Qu.: 5.625        1st Qu.:19.250     1st Qu.:1.463e+09  \n",
       " Median :  62.73   Median :11.937        Median :26.125     Median :1.467e+09  \n",
       " Mean   :  84.44   Mean   :11.749        Mean   :25.799     Mean   :5.581e+09  \n",
       " 3rd Qu.: 115.53   3rd Qu.:16.687        3rd Qu.:31.562     3rd Qu.:1.146e+10  \n",
       " Max.   :3872.80   Max.   :43.875        Max.   :59.937     Max.   :1.147e+10  \n",
       "                                                                               \n",
       "   O3_Waarden      NO2_Waarden       CO_Waarden    \n",
       " Min.   :  0.00   Min.   :  0.00   Min.   :   0.0  \n",
       " 1st Qu.: 35.89   1st Qu.: 12.56   1st Qu.: 209.5  \n",
       " Median : 52.27   Median : 19.42   Median : 274.2  \n",
       " Mean   : 53.62   Mean   : 24.67   Mean   : 314.6  \n",
       " 3rd Qu.: 69.08   3rd Qu.: 31.75   3rd Qu.: 379.0  \n",
       " Max.   :199.93   Max.   :249.68   Max.   :1996.7  \n",
       " NA's   :234913   NA's   :16137    NA's   :178536  "
      ]
     },
     "metadata": {},
     "output_type": "display_data"
    },
    {
     "data": {
      "text/html": [
       "<ol class=list-inline>\n",
       "\t<li>542679</li>\n",
       "\t<li>11</li>\n",
       "</ol>\n"
      ],
      "text/latex": [
       "\\begin{enumerate*}\n",
       "\\item 542679\n",
       "\\item 11\n",
       "\\end{enumerate*}\n"
      ],
      "text/markdown": [
       "1. 542679\n",
       "2. 11\n",
       "\n",
       "\n"
      ],
      "text/plain": [
       "[1] 542679     11"
      ]
     },
     "metadata": {},
     "output_type": "display_data"
    }
   ],
   "source": [
    "summary(df)\n",
    "dim(df)"
   ]
  },
  {
   "cell_type": "markdown",
   "metadata": {},
   "source": [
    "# Barometer"
   ]
  },
  {
   "cell_type": "code",
   "execution_count": 8,
   "metadata": {
    "collapsed": false
   },
   "outputs": [
    {
     "name": "stderr",
     "output_type": "stream",
     "text": [
      "`stat_bin()` using `bins = 30`. Pick better value with `binwidth`.\n"
     ]
    },
    {
     "data": {},
     "metadata": {},
     "output_type": "display_data"
    },
    {
     "data": {
      "image/png": "[encoded data removed]",
      "text/plain": [
       "plot without title"
      ]
     },
     "metadata": {},
     "output_type": "display_data"
    }
   ],
   "source": [
    "ggplot(df, aes(s.barometer)) + \n",
    "geom_histogram()"
   ]
  },
  {
   "cell_type": "markdown",
   "metadata": {},
   "source": [
    "# CO2"
   ]
  },
  {
   "cell_type": "markdown",
   "metadata": {},
   "source": [
    "# Humidity"
   ]
  },
  {
   "cell_type": "markdown",
   "metadata": {},
   "source": [
    "# NO2"
   ]
  },
  {
   "cell_type": "markdown",
   "metadata": {},
   "source": [
    "# O3"
   ]
  },
  {
   "cell_type": "markdown",
   "metadata": {},
   "source": [
    "# Temperature ambient"
   ]
  },
  {
   "cell_type": "code",
   "execution_count": 12,
   "metadata": {
    "collapsed": false
   },
   "outputs": [
    {
     "name": "stderr",
     "output_type": "stream",
     "text": [
      "`stat_bin()` using `bins = 30`. Pick better value with `binwidth`.\n"
     ]
    },
    {
     "data": {},
     "metadata": {},
     "output_type": "display_data"
    },
    {
     "data": {
      "text/plain": [
       "   Min. 1st Qu.  Median    Mean 3rd Qu.    Max. \n",
       " -4.187   5.625  11.940  11.750  16.690  43.880 "
      ]
     },
     "metadata": {},
     "output_type": "display_data"
    },
    {
     "data": {
      "image/png": "[encoded data removed]",
      "text/plain": [
       "plot without title"
      ]
     },
     "metadata": {},
     "output_type": "display_data"
    }
   ],
   "source": [
    "ggplot(df, aes(s.temperature.ambient)) + \n",
    "geom_histogram()\n",
    "summary(df$s.temperature.ambient)"
   ]
  },
  {
   "cell_type": "markdown",
   "metadata": {},
   "source": [
    "# Temperature unit"
   ]
  },
  {
   "cell_type": "markdown",
   "metadata": {},
   "source": []
  }
 ],
 "metadata": {
  "kernelspec": {
   "display_name": "R",
   "language": "R",
   "name": "ir"
  },
  "language_info": {
   "codemirror_mode": "r",
   "file_extension": ".r",
   "mimetype": "text/x-r-source",
   "name": "R",
   "pygments_lexer": "r",
   "version": "3.2.3"
  }
 },
 "nbformat": 4,
 "nbformat_minor": 0
}
